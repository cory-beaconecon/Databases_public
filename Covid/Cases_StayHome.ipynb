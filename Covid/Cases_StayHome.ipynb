{
 "cells": [
  {
   "cell_type": "code",
   "execution_count": 2,
   "metadata": {},
   "outputs": [],
   "source": [
    "import requests\n",
    "from bs4 import BeautifulSoup\n",
    "import pandas as pd\n",
    "import datetime as dt"
   ]
  },
  {
   "cell_type": "code",
   "execution_count": 3,
   "metadata": {},
   "outputs": [],
   "source": [
    "today_str = dt.date.today().strftime(\"%Y_%m_%d\")"
   ]
  },
  {
   "cell_type": "markdown",
   "metadata": {},
   "source": [
    "# 1. [Stay at home data](https://github.com/COVID19StatePolicy/SocialDistancing): University of Washington"
   ]
  },
  {
   "cell_type": "markdown",
   "metadata": {},
   "source": [
    "## 1.1 Stay at home data"
   ]
  },
  {
   "cell_type": "code",
   "execution_count": 4,
   "metadata": {},
   "outputs": [
    {
     "data": {
      "text/html": [
       "<div>\n",
       "<style scoped>\n",
       "    .dataframe tbody tr th:only-of-type {\n",
       "        vertical-align: middle;\n",
       "    }\n",
       "\n",
       "    .dataframe tbody tr th {\n",
       "        vertical-align: top;\n",
       "    }\n",
       "\n",
       "    .dataframe thead th {\n",
       "        text-align: right;\n",
       "    }\n",
       "</style>\n",
       "<table border=\"1\" class=\"dataframe\">\n",
       "  <thead>\n",
       "    <tr style=\"text-align: right;\">\n",
       "      <th></th>\n",
       "      <th>ï»¿location_id</th>\n",
       "      <th>StateFIPS</th>\n",
       "      <th>StatePostal</th>\n",
       "      <th>StateName</th>\n",
       "      <th>StatePolicy</th>\n",
       "      <th>Mandate</th>\n",
       "      <th>StateWide</th>\n",
       "      <th>Curfew</th>\n",
       "      <th>CurfewStart</th>\n",
       "      <th>CurfewEnd</th>\n",
       "      <th>...</th>\n",
       "      <th>DateExpiry</th>\n",
       "      <th>DateEased</th>\n",
       "      <th>DateEnded</th>\n",
       "      <th>DateReexpanded1</th>\n",
       "      <th>DateReeased1</th>\n",
       "      <th>PolicyCodingNotes</th>\n",
       "      <th>PolicySource</th>\n",
       "      <th>LastUpdated</th>\n",
       "      <th>LastUpdatedNotes</th>\n",
       "      <th>ReReviewed</th>\n",
       "    </tr>\n",
       "  </thead>\n",
       "  <tbody>\n",
       "    <tr>\n",
       "      <th>0</th>\n",
       "      <td>523</td>\n",
       "      <td>1</td>\n",
       "      <td>AL</td>\n",
       "      <td>Alabama</td>\n",
       "      <td>EmergDec</td>\n",
       "      <td>1</td>\n",
       "      <td>1</td>\n",
       "      <td>0</td>\n",
       "      <td>NaN</td>\n",
       "      <td>NaN</td>\n",
       "      <td>...</td>\n",
       "      <td>20210706.0</td>\n",
       "      <td>NaN</td>\n",
       "      <td>20210706.0</td>\n",
       "      <td>NaN</td>\n",
       "      <td>NaN</td>\n",
       "      <td>Public Health Emergency declared, in effect fo...</td>\n",
       "      <td>https://governor.alabama.gov/newsroom/2020/03/...</td>\n",
       "      <td>20210601</td>\n",
       "      <td>Added DateEnded and Updated PolicyCodingNotes</td>\n",
       "      <td>1.0</td>\n",
       "    </tr>\n",
       "  </tbody>\n",
       "</table>\n",
       "<p>1 rows × 30 columns</p>\n",
       "</div>"
      ],
      "text/plain": [
       "   ï»¿location_id  StateFIPS StatePostal StateName StatePolicy  Mandate  \\\n",
       "0             523          1          AL   Alabama    EmergDec        1   \n",
       "\n",
       "   StateWide  Curfew CurfewStart CurfewEnd  ...  DateExpiry  DateEased  \\\n",
       "0          1       0         NaN       NaN  ...  20210706.0        NaN   \n",
       "\n",
       "    DateEnded  DateReexpanded1  DateReeased1  \\\n",
       "0  20210706.0              NaN           NaN   \n",
       "\n",
       "                                   PolicyCodingNotes  \\\n",
       "0  Public Health Emergency declared, in effect fo...   \n",
       "\n",
       "                                        PolicySource LastUpdated  \\\n",
       "0  https://governor.alabama.gov/newsroom/2020/03/...    20210601   \n",
       "\n",
       "                                LastUpdatedNotes  ReReviewed  \n",
       "0  Added DateEnded and Updated PolicyCodingNotes         1.0  \n",
       "\n",
       "[1 rows x 30 columns]"
      ]
     },
     "execution_count": 4,
     "metadata": {},
     "output_type": "execute_result"
    }
   ],
   "source": [
    "url = \"https://raw.githubusercontent.com/COVID19StatePolicy/SocialDistancing/master/data/USstatesCov19distancingpolicy.csv\"\n",
    "df_stayhome = pd.read_csv(url, encoding = \"ISO-8859-1\")\n",
    "df_stayhome.head(1)"
   ]
  },
  {
   "cell_type": "code",
   "execution_count": 5,
   "metadata": {},
   "outputs": [
    {
     "data": {
      "text/plain": [
       "GathRestrict            482\n",
       "OtherBusinessClose      436\n",
       "BarRestrict             237\n",
       "RestaurantRestrict      228\n",
       "PublicMask              162\n",
       "StayAtHome              117\n",
       "SchoolClose             109\n",
       "BusinessMask             79\n",
       "Quarantine               60\n",
       "EmergDec                 57\n",
       "SchoolMask               46\n",
       "NEBusinessClose          36\n",
       "CaseIsolation            19\n",
       "TravelRestrictEntry       9\n",
       "TravelRestrictIntra       7\n",
       "TravelRestrictExit        4\n",
       "TravelRestrictIntra       1\n",
       "TravelRestrictEntry       1\n",
       "Name: StatePolicy, dtype: int64"
      ]
     },
     "execution_count": 5,
     "metadata": {},
     "output_type": "execute_result"
    }
   ],
   "source": [
    "df_stayhome.StatePolicy.value_counts()"
   ]
  },
  {
   "cell_type": "markdown",
   "metadata": {},
   "source": [
    "### 1.1.1 Count types of policies by state"
   ]
  },
  {
   "cell_type": "code",
   "execution_count": 7,
   "metadata": {},
   "outputs": [],
   "source": [
    "policies = ['OtherBusinessClose','BarRestrict','RestaurantRestrict', 'StayAtHome']\n",
    "df_policies = pd.DataFrame()\n",
    "for policy in policies:\n",
    "    mask = (df_stayhome.StatePolicy==policy) & (df_stayhome.StateWide==1)\n",
    "    df_temp = df_stayhome.loc[mask, ['StateName','StateWide']].groupby('StateName')['StateWide'].count()\n",
    "    df_policies = pd.concat([df_policies, df_temp], axis=1)\n",
    "df_policies.columns = policies\n",
    "df_policies = df_policies.fillna(0)"
   ]
  },
  {
   "cell_type": "code",
   "execution_count": 8,
   "metadata": {},
   "outputs": [
    {
     "data": {
      "text/html": [
       "<div>\n",
       "<style scoped>\n",
       "    .dataframe tbody tr th:only-of-type {\n",
       "        vertical-align: middle;\n",
       "    }\n",
       "\n",
       "    .dataframe tbody tr th {\n",
       "        vertical-align: top;\n",
       "    }\n",
       "\n",
       "    .dataframe thead th {\n",
       "        text-align: right;\n",
       "    }\n",
       "</style>\n",
       "<table border=\"1\" class=\"dataframe\">\n",
       "  <thead>\n",
       "    <tr style=\"text-align: right;\">\n",
       "      <th></th>\n",
       "      <th>state</th>\n",
       "      <th>OtherBusinessClose</th>\n",
       "      <th>BarRestrict</th>\n",
       "      <th>RestaurantRestrict</th>\n",
       "      <th>StayAtHome</th>\n",
       "    </tr>\n",
       "  </thead>\n",
       "  <tbody>\n",
       "    <tr>\n",
       "      <th>0</th>\n",
       "      <td>Alabama</td>\n",
       "      <td>5.0</td>\n",
       "      <td>2</td>\n",
       "      <td>2</td>\n",
       "      <td>2.0</td>\n",
       "    </tr>\n",
       "    <tr>\n",
       "      <th>1</th>\n",
       "      <td>Alaska</td>\n",
       "      <td>7.0</td>\n",
       "      <td>2</td>\n",
       "      <td>2</td>\n",
       "      <td>1.0</td>\n",
       "    </tr>\n",
       "  </tbody>\n",
       "</table>\n",
       "</div>"
      ],
      "text/plain": [
       "     state  OtherBusinessClose  BarRestrict  RestaurantRestrict  StayAtHome\n",
       "0  Alabama                 5.0            2                   2         2.0\n",
       "1   Alaska                 7.0            2                   2         1.0"
      ]
     },
     "execution_count": 8,
     "metadata": {},
     "output_type": "execute_result"
    }
   ],
   "source": [
    "df_policies = df_policies.reset_index().rename(columns={'index':'state'})\n",
    "df_policies.head(2)"
   ]
  },
  {
   "cell_type": "markdown",
   "metadata": {},
   "source": [
    "# 2. [Cases](https://github.com/nytimes/covid-19-data): NYT"
   ]
  },
  {
   "cell_type": "code",
   "execution_count": 9,
   "metadata": {},
   "outputs": [
    {
     "data": {
      "text/html": [
       "<div>\n",
       "<style scoped>\n",
       "    .dataframe tbody tr th:only-of-type {\n",
       "        vertical-align: middle;\n",
       "    }\n",
       "\n",
       "    .dataframe tbody tr th {\n",
       "        vertical-align: top;\n",
       "    }\n",
       "\n",
       "    .dataframe thead th {\n",
       "        text-align: right;\n",
       "    }\n",
       "</style>\n",
       "<table border=\"1\" class=\"dataframe\">\n",
       "  <thead>\n",
       "    <tr style=\"text-align: right;\">\n",
       "      <th></th>\n",
       "      <th>state</th>\n",
       "      <th>cases</th>\n",
       "      <th>deaths</th>\n",
       "    </tr>\n",
       "    <tr>\n",
       "      <th>date</th>\n",
       "      <th></th>\n",
       "      <th></th>\n",
       "      <th></th>\n",
       "    </tr>\n",
       "  </thead>\n",
       "  <tbody>\n",
       "    <tr>\n",
       "      <th>2020-01-21</th>\n",
       "      <td>Washington</td>\n",
       "      <td>1</td>\n",
       "      <td>0</td>\n",
       "    </tr>\n",
       "    <tr>\n",
       "      <th>2020-01-22</th>\n",
       "      <td>Washington</td>\n",
       "      <td>1</td>\n",
       "      <td>0</td>\n",
       "    </tr>\n",
       "    <tr>\n",
       "      <th>2020-01-23</th>\n",
       "      <td>Washington</td>\n",
       "      <td>1</td>\n",
       "      <td>0</td>\n",
       "    </tr>\n",
       "  </tbody>\n",
       "</table>\n",
       "</div>"
      ],
      "text/plain": [
       "                 state  cases  deaths\n",
       "date                                 \n",
       "2020-01-21  Washington      1       0\n",
       "2020-01-22  Washington      1       0\n",
       "2020-01-23  Washington      1       0"
      ]
     },
     "execution_count": 9,
     "metadata": {},
     "output_type": "execute_result"
    }
   ],
   "source": [
    "url = 'https://raw.githubusercontent.com/nytimes/covid-19-data/master/us-states.csv'\n",
    "df_cases_nyt = pd.read_csv(url, parse_dates=True, index_col='date' )\n",
    "df_cases_nyt.drop('fips', inplace=True, axis=1) \n",
    "df_cases_nyt.head(3)"
   ]
  },
  {
   "cell_type": "code",
   "execution_count": 10,
   "metadata": {},
   "outputs": [
    {
     "name": "stderr",
     "output_type": "stream",
     "text": [
      "<ipython-input-10-843fa52f7be8>:1: FutureWarning: Indexing with multiple keys (implicitly converted to a tuple of keys) will be deprecated, use a list instead.\n",
      "  df_cases_nyt = df_cases_nyt.groupby('state')['cases','deaths'].sum()\n"
     ]
    },
    {
     "data": {
      "text/html": [
       "<div>\n",
       "<style scoped>\n",
       "    .dataframe tbody tr th:only-of-type {\n",
       "        vertical-align: middle;\n",
       "    }\n",
       "\n",
       "    .dataframe tbody tr th {\n",
       "        vertical-align: top;\n",
       "    }\n",
       "\n",
       "    .dataframe thead th {\n",
       "        text-align: right;\n",
       "    }\n",
       "</style>\n",
       "<table border=\"1\" class=\"dataframe\">\n",
       "  <thead>\n",
       "    <tr style=\"text-align: right;\">\n",
       "      <th></th>\n",
       "      <th>cases</th>\n",
       "      <th>deaths</th>\n",
       "    </tr>\n",
       "    <tr>\n",
       "      <th>state</th>\n",
       "      <th></th>\n",
       "      <th></th>\n",
       "    </tr>\n",
       "  </thead>\n",
       "  <tbody>\n",
       "    <tr>\n",
       "      <th>Alabama</th>\n",
       "      <td>113683166</td>\n",
       "      <td>2098533</td>\n",
       "    </tr>\n",
       "    <tr>\n",
       "      <th>Alaska</th>\n",
       "      <td>12876504</td>\n",
       "      <td>61506</td>\n",
       "    </tr>\n",
       "  </tbody>\n",
       "</table>\n",
       "</div>"
      ],
      "text/plain": [
       "             cases   deaths\n",
       "state                      \n",
       "Alabama  113683166  2098533\n",
       "Alaska    12876504    61506"
      ]
     },
     "execution_count": 10,
     "metadata": {},
     "output_type": "execute_result"
    }
   ],
   "source": [
    "df_cases_nyt = df_cases_nyt.groupby('state')['cases','deaths'].sum()\n",
    "df_cases_nyt.head(2)"
   ]
  }
 ],
 "metadata": {
  "kernelspec": {
   "display_name": "Python 3",
   "language": "python",
   "name": "python3"
  },
  "language_info": {
   "codemirror_mode": {
    "name": "ipython",
    "version": 3
   },
   "file_extension": ".py",
   "mimetype": "text/x-python",
   "name": "python",
   "nbconvert_exporter": "python",
   "pygments_lexer": "ipython3",
   "version": "3.8.5"
  }
 },
 "nbformat": 4,
 "nbformat_minor": 4
}
