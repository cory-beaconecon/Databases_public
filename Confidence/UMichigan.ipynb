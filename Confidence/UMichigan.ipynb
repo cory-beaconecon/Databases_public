{
 "cells": [
  {
   "cell_type": "code",
   "execution_count": 2,
   "metadata": {},
   "outputs": [],
   "source": [
    "import pandas as pd\n",
    "import matplotlib.pyplot as plt\n",
    "import os\n",
    "\n",
    "#plt.style.use('seaborn-white')\n",
    "#plt.style.use('fivethirtyeight')\n",
    "import matplotlib as mpl\n",
    "import datetime as dt\n",
    "\n",
    "plt.rcParams['figure.figsize'] = [16, 10]\n",
    "plt.rcParams.update({'font.size': 22})\n",
    "\n",
    "plt.style.use('seaborn-poster')\n",
    "\n",
    "mpl.rcParams['axes.spines.right'] = False\n",
    "mpl.rcParams['axes.spines.top'] = False"
   ]
  },
  {
   "cell_type": "markdown",
   "metadata": {},
   "source": [
    "## 1. U-Michigan Confidence\n",
    "\n",
    "http://www.sca.isr.umich.edu/tables.html"
   ]
  },
  {
   "cell_type": "code",
   "execution_count": 3,
   "metadata": {},
   "outputs": [
    {
     "data": {
      "text/html": [
       "<div>\n",
       "<style scoped>\n",
       "    .dataframe tbody tr th:only-of-type {\n",
       "        vertical-align: middle;\n",
       "    }\n",
       "\n",
       "    .dataframe tbody tr th {\n",
       "        vertical-align: top;\n",
       "    }\n",
       "\n",
       "    .dataframe thead th {\n",
       "        text-align: right;\n",
       "    }\n",
       "</style>\n",
       "<table border=\"1\" class=\"dataframe\">\n",
       "  <thead>\n",
       "    <tr style=\"text-align: right;\">\n",
       "      <th></th>\n",
       "      <th>INDEX OF CONSUMER SENTIMENT</th>\n",
       "    </tr>\n",
       "    <tr>\n",
       "      <th>date</th>\n",
       "      <th></th>\n",
       "    </tr>\n",
       "  </thead>\n",
       "  <tbody>\n",
       "    <tr>\n",
       "      <th>1952-11-01</th>\n",
       "      <td>86.2</td>\n",
       "    </tr>\n",
       "    <tr>\n",
       "      <th>1953-02-01</th>\n",
       "      <td>90.7</td>\n",
       "    </tr>\n",
       "    <tr>\n",
       "      <th>1953-08-01</th>\n",
       "      <td>80.8</td>\n",
       "    </tr>\n",
       "  </tbody>\n",
       "</table>\n",
       "</div>"
      ],
      "text/plain": [
       "            INDEX OF CONSUMER SENTIMENT\n",
       "date                                   \n",
       "1952-11-01                         86.2\n",
       "1953-02-01                         90.7\n",
       "1953-08-01                         80.8"
      ]
     },
     "execution_count": 3,
     "metadata": {},
     "output_type": "execute_result"
    }
   ],
   "source": [
    "url = 'http://www.sca.isr.umich.edu/files/tbmics.xls'\n",
    "mich = pd.read_excel(url, header=3)\n",
    "mich = mich.iloc[1:]\n",
    "mich.rename(columns={'Unnamed: 1':'Year',\n",
    "                    'DATE OF SURVEY':'Month'}, inplace=True)\n",
    "mich.Year = mich.Year.astype(int)\n",
    "mich['Month'] = mich.Month.apply(lambda x: dt.datetime.strptime(x, '%B').month)\n",
    "mich['Day'] = int(1)\n",
    "mich['date'] = pd.to_datetime(mich[['Year','Month','Day']], format='%Y-%m-%d')\n",
    "mich.set_index('date',inplace=True)\n",
    "mich = mich.drop(['Month','Day','Year'], axis=1)\n",
    "mich.head(3)"
   ]
  }
 ],
 "metadata": {
  "kernelspec": {
   "display_name": "Python 3",
   "language": "python",
   "name": "python3"
  },
  "language_info": {
   "codemirror_mode": {
    "name": "ipython",
    "version": 3
   },
   "file_extension": ".py",
   "mimetype": "text/x-python",
   "name": "python",
   "nbconvert_exporter": "python",
   "pygments_lexer": "ipython3",
   "version": "3.8.5"
  }
 },
 "nbformat": 4,
 "nbformat_minor": 4
}
