{
 "cells": [
  {
   "cell_type": "code",
   "execution_count": 1,
   "metadata": {},
   "outputs": [],
   "source": [
    "import pandas as pd\n",
    "import matplotlib.pyplot as plt\n",
    "import os\n",
    "import matplotlib as mpl\n",
    "import datetime as dt\n",
    "import seaborn as sns\n",
    "import numpy as np\n",
    "\n",
    "plt.rcParams['figure.figsize'] = [8, 6]\n",
    "plt.rcParams.update({'font.size': 22})\n",
    "plt.style.use('seaborn-poster')\n",
    "mpl.rcParams['axes.spines.right'] = False\n",
    "mpl.rcParams['axes.spines.top'] = False"
   ]
  },
  {
   "cell_type": "markdown",
   "metadata": {},
   "source": [
    "# 1. OI data"
   ]
  },
  {
   "cell_type": "code",
   "execution_count": 4,
   "metadata": {},
   "outputs": [],
   "source": [
    "url = 'https://www2.census.gov/programs-surveys/popest/geographies/2018/state-geocodes-v2018.xlsx'\n",
    "state_code = pd.read_excel(url, header=5)\n",
    "state_code = state_code.loc[state_code.iloc[:,-2]!=0]\n",
    "map_data = state_code.set_index(\"State (FIPS)\").iloc[:,-1].to_dict()"
   ]
  },
  {
   "cell_type": "code",
   "execution_count": 5,
   "metadata": {},
   "outputs": [],
   "source": [
    "def read_oidata(url):\n",
    "    df = pd.read_csv(url)\n",
    "    df['date'] = pd.to_datetime(df[['year','month','day']])\n",
    "    df.set_index('date',inplace=True)\n",
    "    df = df.replace('.',np.NaN).dropna()\n",
    "    df['state'] = df.statefips.map(map_data) # Map data from section A\n",
    "    return df"
   ]
  },
  {
   "cell_type": "code",
   "execution_count": 6,
   "metadata": {},
   "outputs": [
    {
     "data": {
      "text/html": [
       "<div>\n",
       "<style scoped>\n",
       "    .dataframe tbody tr th:only-of-type {\n",
       "        vertical-align: middle;\n",
       "    }\n",
       "\n",
       "    .dataframe tbody tr th {\n",
       "        vertical-align: top;\n",
       "    }\n",
       "\n",
       "    .dataframe thead th {\n",
       "        text-align: right;\n",
       "    }\n",
       "</style>\n",
       "<table border=\"1\" class=\"dataframe\">\n",
       "  <thead>\n",
       "    <tr style=\"text-align: right;\">\n",
       "      <th></th>\n",
       "      <th>year</th>\n",
       "      <th>month</th>\n",
       "      <th>day</th>\n",
       "      <th>statefips</th>\n",
       "      <th>freq</th>\n",
       "      <th>spend_acf</th>\n",
       "      <th>spend_aer</th>\n",
       "      <th>spend_all</th>\n",
       "      <th>spend_apg</th>\n",
       "      <th>spend_grf</th>\n",
       "      <th>spend_hcs</th>\n",
       "      <th>spend_tws</th>\n",
       "      <th>spend_all_inchigh</th>\n",
       "      <th>spend_all_inclow</th>\n",
       "      <th>spend_all_incmiddle</th>\n",
       "      <th>spend_retail_w_grocery</th>\n",
       "      <th>spend_retail_no_grocery</th>\n",
       "      <th>provisional</th>\n",
       "      <th>state</th>\n",
       "    </tr>\n",
       "    <tr>\n",
       "      <th>date</th>\n",
       "      <th></th>\n",
       "      <th></th>\n",
       "      <th></th>\n",
       "      <th></th>\n",
       "      <th></th>\n",
       "      <th></th>\n",
       "      <th></th>\n",
       "      <th></th>\n",
       "      <th></th>\n",
       "      <th></th>\n",
       "      <th></th>\n",
       "      <th></th>\n",
       "      <th></th>\n",
       "      <th></th>\n",
       "      <th></th>\n",
       "      <th></th>\n",
       "      <th></th>\n",
       "      <th></th>\n",
       "      <th></th>\n",
       "    </tr>\n",
       "  </thead>\n",
       "  <tbody>\n",
       "    <tr>\n",
       "      <th>2020-01-13</th>\n",
       "      <td>2020</td>\n",
       "      <td>1</td>\n",
       "      <td>13</td>\n",
       "      <td>1</td>\n",
       "      <td>d</td>\n",
       "      <td>-.021</td>\n",
       "      <td>.0911</td>\n",
       "      <td>.0124</td>\n",
       "      <td>.0131</td>\n",
       "      <td>.0208</td>\n",
       "      <td>-.0556</td>\n",
       "      <td>.0184</td>\n",
       "      <td>.0047</td>\n",
       "      <td>.00952</td>\n",
       "      <td>.0159</td>\n",
       "      <td>.00663</td>\n",
       "      <td>-.000552</td>\n",
       "      <td>0</td>\n",
       "      <td>Alabama</td>\n",
       "    </tr>\n",
       "  </tbody>\n",
       "</table>\n",
       "</div>"
      ],
      "text/plain": [
       "            year  month  day  statefips freq spend_acf spend_aer spend_all  \\\n",
       "date                                                                         \n",
       "2020-01-13  2020      1   13          1    d     -.021     .0911     .0124   \n",
       "\n",
       "           spend_apg spend_grf spend_hcs spend_tws spend_all_inchigh  \\\n",
       "date                                                                   \n",
       "2020-01-13     .0131     .0208    -.0556     .0184             .0047   \n",
       "\n",
       "           spend_all_inclow spend_all_incmiddle spend_retail_w_grocery  \\\n",
       "date                                                                     \n",
       "2020-01-13           .00952               .0159                 .00663   \n",
       "\n",
       "           spend_retail_no_grocery  provisional    state  \n",
       "date                                                      \n",
       "2020-01-13                -.000552            0  Alabama  "
      ]
     },
     "execution_count": 6,
     "metadata": {},
     "output_type": "execute_result"
    }
   ],
   "source": [
    "url = 'https://raw.githubusercontent.com/OpportunityInsights/EconomicTracker/main/data/Affinity%20-%20State%20-%20Daily.csv'\n",
    "\n",
    "df = read_oidata(url)\n",
    "df.head(1)"
   ]
  },
  {
   "cell_type": "code",
   "execution_count": 7,
   "metadata": {},
   "outputs": [],
   "source": [
    "df[['spend_acf', 'spend_aer',\n",
    "       'spend_all', 'spend_apg', 'spend_grf', 'spend_hcs', 'spend_tws',\n",
    "       'spend_all_inchigh', 'spend_all_inclow', 'spend_all_incmiddle',\n",
    "       'spend_retail_w_grocery', 'spend_retail_no_grocery']] = df[['spend_acf', 'spend_aer',\n",
    "       'spend_all', 'spend_apg', 'spend_grf', 'spend_hcs', 'spend_tws',\n",
    "       'spend_all_inchigh', 'spend_all_inclow', 'spend_all_incmiddle',\n",
    "       'spend_retail_w_grocery', 'spend_retail_no_grocery']].astype(float)"
   ]
  },
  {
   "cell_type": "markdown",
   "metadata": {},
   "source": [
    "## 1.1 California Consumer spending"
   ]
  },
  {
   "cell_type": "code",
   "execution_count": 8,
   "metadata": {},
   "outputs": [
    {
     "data": {
      "text/html": [
       "<div>\n",
       "<style scoped>\n",
       "    .dataframe tbody tr th:only-of-type {\n",
       "        vertical-align: middle;\n",
       "    }\n",
       "\n",
       "    .dataframe tbody tr th {\n",
       "        vertical-align: top;\n",
       "    }\n",
       "\n",
       "    .dataframe thead th {\n",
       "        text-align: right;\n",
       "    }\n",
       "</style>\n",
       "<table border=\"1\" class=\"dataframe\">\n",
       "  <thead>\n",
       "    <tr style=\"text-align: right;\">\n",
       "      <th></th>\n",
       "      <th>spend_all_inchigh</th>\n",
       "      <th>spend_all_inclow</th>\n",
       "      <th>spend_all_incmiddle</th>\n",
       "    </tr>\n",
       "    <tr>\n",
       "      <th>date</th>\n",
       "      <th></th>\n",
       "      <th></th>\n",
       "      <th></th>\n",
       "    </tr>\n",
       "  </thead>\n",
       "  <tbody>\n",
       "    <tr>\n",
       "      <th>2020-01-31</th>\n",
       "      <td>0.013460</td>\n",
       "      <td>0.014386</td>\n",
       "      <td>0.008549</td>\n",
       "    </tr>\n",
       "    <tr>\n",
       "      <th>2020-02-29</th>\n",
       "      <td>0.017366</td>\n",
       "      <td>0.021829</td>\n",
       "      <td>0.022432</td>\n",
       "    </tr>\n",
       "  </tbody>\n",
       "</table>\n",
       "</div>"
      ],
      "text/plain": [
       "            spend_all_inchigh  spend_all_inclow  spend_all_incmiddle\n",
       "date                                                                \n",
       "2020-01-31           0.013460          0.014386             0.008549\n",
       "2020-02-29           0.017366          0.021829             0.022432"
      ]
     },
     "execution_count": 8,
     "metadata": {},
     "output_type": "execute_result"
    }
   ],
   "source": [
    "mask = (df.state=='California' ) & (df.spend_all_inclow>0)\n",
    "cols = ['spend_all_inchigh', 'spend_all_inclow', 'spend_all_incmiddle']\n",
    "df['2020':].loc[mask, cols].resample('m').mean().head(2)"
   ]
  }
 ],
 "metadata": {
  "kernelspec": {
   "display_name": "Python 3",
   "language": "python",
   "name": "python3"
  },
  "language_info": {
   "codemirror_mode": {
    "name": "ipython",
    "version": 3
   },
   "file_extension": ".py",
   "mimetype": "text/x-python",
   "name": "python",
   "nbconvert_exporter": "python",
   "pygments_lexer": "ipython3",
   "version": "3.8.5"
  }
 },
 "nbformat": 4,
 "nbformat_minor": 4
}
